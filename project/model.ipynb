{
 "cells": [
  {
   "cell_type": "code",
   "execution_count": 1,
   "metadata": {},
   "outputs": [],
   "source": [
    "import pickle\n",
    "import cv2\n",
    "import numpy as np\n",
    "import os\n",
    "import re\n",
    "import time\n",
    "import warnings\n",
    "import numpy as np\n",
    "from skimage.feature import hog\n",
    "from sklearn.metrics import accuracy_score\n"
   ]
  },
  {
   "cell_type": "code",
   "execution_count": 2,
   "metadata": {},
   "outputs": [],
   "source": [
    "def preprocess_image(image):\n",
    "        # Convert the image to YCrCb color space\n",
    "        image_ycrcb = cv2.cvtColor(image, cv2.COLOR_BGR2YCrCb)\n",
    "\n",
    "        # Split the image into channels\n",
    "        y, cr, cb = cv2.split(image_ycrcb)\n",
    "\n",
    "        # Apply thresholding to the Cr channel using Otsu's thresholding\n",
    "        _, cr_thresholded = cv2.threshold(cr, 0, 255, cv2.THRESH_BINARY_INV + cv2.THRESH_OTSU)\n",
    "\n",
    "       # Apply Gaussian blur multiple times\n",
    "        for _ in range(5):\n",
    "            image_filtered = cv2.GaussianBlur(cr_thresholded, (5, 5), 0)\n",
    "            cr_thresholded=image_filtered\n",
    "\n",
    "        # Define the kernel for morphological operations\n",
    "        kernel = cv2.getStructuringElement(cv2.MORPH_ELLIPSE, (15, 15))  # Elliptical kernel\n",
    "        \n",
    "        # Perform morphological opening multiple times\n",
    "        iterations = 10\n",
    "        for _ in range(iterations):\n",
    "            opened = cv2.morphologyEx(image_filtered, cv2.MORPH_OPEN, kernel)\n",
    "            # Update the image for the next iteration\n",
    "            image_filtered = opened\n",
    "    \n",
    "        #cv2.imwrite(output_path, opened)\n",
    "        return opened"
   ]
  },
  {
   "cell_type": "code",
   "execution_count": 3,
   "metadata": {},
   "outputs": [],
   "source": [
    "# Feature Extraction Module\n",
    "def extract_features(image):\n",
    "    # Extract HOG features\n",
    "    hog_features = hog(image, orientations=9, pixels_per_cell=(12, 12), cells_per_block=(2, 2), visualize=False)\n",
    "    # Calculate Hu moments\n",
    "    moments = cv2.moments(image)\n",
    "    hu_moments = cv2.HuMoments(moments).flatten()\n",
    "    features = np.concatenate((hog_features, hu_moments))\n",
    "    return features"
   ]
  },
  {
   "cell_type": "code",
   "execution_count": 4,
   "metadata": {},
   "outputs": [],
   "source": [
    "# Suppress the UserWarning\n",
    "warnings.filterwarnings(\"ignore\", category=UserWarning)\n",
    "# Load the model from the Pickle file\n",
    "with open(\"./classifiers/Random_Forest.pickle\", \"rb\") as file:\n",
    "    model_1 = pickle.load(file)\n",
    "\n"
   ]
  },
  {
   "cell_type": "code",
   "execution_count": 5,
   "metadata": {},
   "outputs": [],
   "source": [
    "# Suppress the UserWarning\n",
    "warnings.filterwarnings(\"ignore\", category=UserWarning)\n",
    "# Load the model from the Pickle file\n",
    "with open(\"./classifiers/K-Nearest Neighbors.pickle\", \"rb\") as file:\n",
    "    model_2 = pickle.load(file)\n"
   ]
  },
  {
   "cell_type": "code",
   "execution_count": 6,
   "metadata": {},
   "outputs": [],
   "source": [
    "# Suppress the UserWarning\n",
    "warnings.filterwarnings(\"ignore\", category=UserWarning)\n",
    "# Load the model from the Pickle file\n",
    "with open(\"./classifiers/Logistic_Regression.pickle\", \"rb\") as file:\n",
    "    model_3 = pickle.load(file)\n"
   ]
  },
  {
   "cell_type": "code",
   "execution_count": 7,
   "metadata": {},
   "outputs": [],
   "source": [
    "# Suppress the UserWarning\n",
    "warnings.filterwarnings(\"ignore\", category=UserWarning)\n",
    "# Load the model from the Pickle file\n",
    "with open(\"./classifiers/SVC.pickle\", \"rb\") as file:\n",
    "    model_4= pickle.load(file)\n"
   ]
  },
  {
   "cell_type": "code",
   "execution_count": 8,
   "metadata": {},
   "outputs": [],
   "source": [
    "# Load the model from the Pickle file\n",
    "with open(\"./classifiers/AdaBoost.pickle\", \"rb\") as file:\n",
    "    model_5 = pickle.load(file)\n"
   ]
  },
  {
   "cell_type": "code",
   "execution_count": 9,
   "metadata": {},
   "outputs": [],
   "source": [
    "# Suppress the UserWarning\n",
    "warnings.filterwarnings(\"ignore\", category=UserWarning)\n",
    "# Load the model from the Pickle file\n",
    "with open(\"./classifiers/Gradient_Boosting.pickle\", \"rb\") as file:\n",
    "    model_6 = pickle.load(file)\n"
   ]
  },
  {
   "cell_type": "code",
   "execution_count": 10,
   "metadata": {},
   "outputs": [],
   "source": [
    "def read_test_labels():\n",
    "    \n",
    "    test_data_true = []\n",
    "    y = []\n",
    "    with open('results_set_1.txt', 'r') as file:\n",
    "        for line in file:\n",
    "            y = [float(f) for f in line.split(\",\")]\n",
    "            test_data_true.append(y)\n",
    "    test_data_true = np.asarray(test_data_true)\n",
    "\n",
    "    return test_data_true"
   ]
  },
  {
   "cell_type": "code",
   "execution_count": 11,
   "metadata": {},
   "outputs": [],
   "source": [
    "def write_to_file(file_path, variable):\n",
    "    with open(file_path, 'a') as file:\n",
    "        file.write(str(variable) + '\\n')"
   ]
  },
  {
   "cell_type": "code",
   "execution_count": 12,
   "metadata": {},
   "outputs": [],
   "source": [
    "def read_test_data():\n",
    "  all_prediction_1=[]\n",
    "  all_prediction_2=[]\n",
    "  all_prediction_3=[]\n",
    "  all_prediction_4=[]\n",
    "  all_prediction_5=[]\n",
    "  all_prediction_6=[]\n",
    "\n",
    "  all_voting=[]\n",
    "  main_directory = \"./test\"\n",
    "  filenames = os.listdir(main_directory)\n",
    "  # Define a custom sorting function to extract and sort based on the numbers within filenames\n",
    "  def sort_by_number(filename):\n",
    "      numbers = re.findall(r'\\d+', filename)  # Extract numbers from the filename\n",
    "      if numbers:\n",
    "           return int(numbers[0])  # Convert the first extracted number to an integer\n",
    "      return 0  # Return 0 if no numbers are found\n",
    "    \n",
    "  filenames.sort(key=sort_by_number)  # Sort filenames using the custom sorting function\n",
    "  # Define a custom sorting function to extract and sort based on the numbers within filenames\n",
    "  print(filenames)\n",
    "  for filename in filenames:\n",
    "      # image_path = main_directory + \"/\" + filename\n",
    "      image_path = os.path.join(main_directory, filename)\n",
    "      # print(image_path)\n",
    "      image = cv2.imread(image_path)\n",
    "      start_time = time.time()  # Start the timer\n",
    "      image=cv2.resize(image, (128, 64))\n",
    "      roi = preprocess_image(image)\n",
    "      features=extract_features(roi)\n",
    "      features_reshaped = features.reshape(1, -1)\n",
    "      y_pred_1 = int(model_1.predict(features_reshaped)[0])\n",
    "      y_pred_2=  int(model_2.predict(features_reshaped)[0])\n",
    "      y_pred_3=  int(model_3.predict(features_reshaped)[0])\n",
    "      y_pred_4 = int(model_4.predict(features_reshaped)[0])\n",
    "      y_pred_5=  int(model_5.predict(features_reshaped)[0])\n",
    "      y_pred_6=  int(model_6.predict(features_reshaped)[0])\n",
    "  \n",
    "      all_pred=[y_pred_1,y_pred_2,y_pred_3,y_pred_4,y_pred_5]\n",
    "      most_frequent = np.bincount(all_pred).argmax()\n",
    "      all_voting.append(most_frequent)\n",
    "\n",
    "    #   y_pred_str = ' '.join(str(label) for label in y_pred)\n",
    "      end_time = time.time()  # Stop the timer\n",
    "      elapsed_time = round(end_time - start_time, 3)\n",
    "      write_to_file(\"results.txt\",most_frequent)\n",
    "      write_to_file(\"time.txt\",elapsed_time)\n",
    "      all_prediction_1.append(y_pred_1)\n",
    "      all_prediction_2.append(y_pred_2)\n",
    "      all_prediction_3.append(y_pred_3)\n",
    "      all_prediction_4.append(y_pred_4)\n",
    "      all_prediction_5.append(y_pred_5)\n",
    "      all_prediction_6.append(y_pred_6)\n",
    "\n",
    "  return all_prediction_1,all_prediction_2,all_prediction_3,all_prediction_4,all_prediction_5,all_prediction_6,all_voting"
   ]
  },
  {
   "cell_type": "code",
   "execution_count": 13,
   "metadata": {},
   "outputs": [
    {
     "name": "stdout",
     "output_type": "stream",
     "text": [
      "['(1).jpg', '(2).jpg', '(3).jpg', '(4).jpg', '(5).jpg', '(6).jpg', '(7).jpg', '(8).jpg', '(9).jpg', '(10).jpg', '(11).jpg', '(12).jpg', '(13).jpg', '(14).jpg', '(15).jpg', '(16).jpg', '(17).jpg', '(18).jpg', '(19).jpg', '(20).jpg', '(21).jpg', '(22).jpg', '(23).jpg', '(24).jpg', '(25).jpg', '(26).jpg', '(27).jpg', '(28).jpg', '(29).jpg', '(30).jpg', '(31).jpg', '(32).jpg', '(33).jpg', '(34).jpg', '(35).jpg', '(36).jpg', '(37).jpg', '(38).jpg', '(39).jpg', '(40).jpg', '(41).jpg', '(42).jpg', '(43).jpg', '(44).jpg', '(45).jpg', '(46).jpg', '(47).jpg', '(48).jpg', '(49).jpg', '(50).jpg', '(51).jpg', '(52).jpg', '(53).jpg', '(54).jpg']\n"
     ]
    }
   ],
   "source": [
    "# test_trues=read_test_labels()\n",
    "all_1,all_2,all_3,all_4,all_5,all_6,all_vot=read_test_data()\n",
    "\n",
    "# accuracy_1 = accuracy_score(test_trues, all_1)\n",
    "# accuracy_2 = accuracy_score(test_trues, all_2)\n",
    "# accuracy_3 = accuracy_score(test_trues, all_3)\n",
    "# accuracy_4 = accuracy_score(test_trues, all_4)\n",
    "# accuracy_5 = accuracy_score(test_trues, all_5)\n",
    "# accuracy_6 = accuracy_score(test_trues, all_6)\n",
    "\n",
    "# accuracy_all_voting = accuracy_score(test_trues, all_vot)\n",
    "\n",
    "# print(accuracy_1)\n",
    "# print(accuracy_2)\n",
    "# print(accuracy_3)\n",
    "# print(accuracy_4)\n",
    "# print(accuracy_5)\n",
    "# print(accuracy_6)\n",
    "\n",
    "# print(accuracy_all_voting)\n",
    "# print(all)"
   ]
  }
 ],
 "metadata": {
  "kernelspec": {
   "display_name": "base",
   "language": "python",
   "name": "python3"
  },
  "language_info": {
   "codemirror_mode": {
    "name": "ipython",
    "version": 3
   },
   "file_extension": ".py",
   "mimetype": "text/x-python",
   "name": "python",
   "nbconvert_exporter": "python",
   "pygments_lexer": "ipython3",
   "version": "3.9.12"
  },
  "orig_nbformat": 4
 },
 "nbformat": 4,
 "nbformat_minor": 2
}
